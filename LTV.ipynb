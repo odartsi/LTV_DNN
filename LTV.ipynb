{
  "nbformat": 4,
  "nbformat_minor": 0,
  "metadata": {
    "colab": {
      "name": "LTV.ipynb",
      "provenance": [],
      "collapsed_sections": []
    },
    "kernelspec": {
      "name": "python3",
      "display_name": "Python 3"
    },
    "language_info": {
      "name": "python"
    }
  },
  "cells": [
    {
      "cell_type": "code",
      "source": [
        "import pandas as pd\n",
        "import numpy as np\n",
        "from datetime import datetime\n",
        "\n",
        "#Statistical LTV\n",
        "from lifetimes import BetaGeoFitter, GammaGammaFitter\n",
        "from lifetimes.utils import calibration_and_holdout_data, summary_data_from_transaction_data\n",
        "\n",
        "#ML Approach to LTV\n",
        "import tensorflow as tf\n",
        "from tensorflow import keras\n",
        "from tensorflow.keras import layers\n",
        "\n",
        "#Evaluation\n",
        "from sklearn.metrics import r2_score\n",
        "from sklearn.metrics import mean_absolute_error\n",
        "\n",
        "#Plotting\n",
        "import matplotlib.pyplot as plt\n",
        "import seaborn as sns"
      ],
      "metadata": {
        "id": "7xqY057TyKeU"
      },
      "execution_count": null,
      "outputs": []
    },
    {
      "cell_type": "markdown",
      "source": [
        "**Data Preprocessing**"
      ],
      "metadata": {
        "id": "9pMl03gVyM0X"
      }
    },
    {
      "cell_type": "code",
      "source": [
        "from google.colab import files\n",
        "uploaded = files.upload()"
      ],
      "metadata": {
        "colab": {
          "resources": {
            "http://localhost:8080/nbextensions/google.colab/files.js": {
              "data": "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",
              "ok": true,
              "headers": [
                [
                  "content-type",
                  "application/javascript"
                ]
              ],
              "status": 200,
              "status_text": ""
            }
          },
          "base_uri": "https://localhost:8080/",
          "height": 74
        },
        "id": "UIYUERkv9GmN",
        "outputId": "0219fc9a-fdc0-4700-dd7d-f1b903fc5050"
      },
      "execution_count": 23,
      "outputs": [
        {
          "output_type": "display_data",
          "data": {
            "text/plain": [
              "<IPython.core.display.HTML object>"
            ],
            "text/html": [
              "\n",
              "     <input type=\"file\" id=\"files-a588472e-ca18-4ee9-993e-5f24529480d4\" name=\"files[]\" multiple disabled\n",
              "        style=\"border:none\" />\n",
              "     <output id=\"result-a588472e-ca18-4ee9-993e-5f24529480d4\">\n",
              "      Upload widget is only available when the cell has been executed in the\n",
              "      current browser session. Please rerun this cell to enable.\n",
              "      </output>\n",
              "      <script src=\"/nbextensions/google.colab/files.js\"></script> "
            ]
          },
          "metadata": {}
        },
        {
          "output_type": "stream",
          "name": "stdout",
          "text": [
            "Saving Online Retail.csv to Online Retail.csv\n"
          ]
        }
      ]
    },
    {
      "cell_type": "code",
      "source": [
        "#Read in\n",
        "data = pd.read_csv('Online Retail.csv', engine='python')\n",
        "data['InvoiceDate'] = pd.to_datetime(data.InvoiceDate, format = '%Y-%m-%d %H:%M')\n",
        "\n",
        "#Datetime transformation\n",
        "data['date'] = pd.to_datetime(data.InvoiceDate.dt.date)\n",
        "data['time'] = data.InvoiceDate.dt.time\n",
        "data['hour'] = data['time'].apply(lambda x: x.hour)\n",
        "data['weekend'] = data['date'].apply(lambda x: x.weekday() in [5, 6])\n",
        "data['dayofweek'] = data['date'].apply(lambda x: x.dayofweek)\n",
        "#Get revenue column\n",
        "data['Revenue'] = data['Quantity'] * data['UnitPrice']\n",
        "\n",
        "print(data.sample(5))\n",
        "\n",
        "#Plots a timeseries of total sales\n",
        "data.groupby('date')['Quantity'].sum().plot()\n",
        "#Prints the total number of days between start and end\n",
        "print(data['date'].max() - data['date'].min())\n"
      ],
      "metadata": {
        "colab": {
          "base_uri": "https://localhost:8080/",
          "height": 652
        },
        "id": "7ZbFZbqE1s2R",
        "outputId": "af8d6338-c9b4-4998-d863-d588da6db067"
      },
      "execution_count": 25,
      "outputs": [
        {
          "output_type": "stream",
          "name": "stdout",
          "text": [
            "       InvoiceNo StockCode                       Description  Quantity  \\\n",
            "479301    577152     23206            LUNCH BAG APPLE DESIGN        10   \n",
            "385027    570187     22619         SET OF 6 SOLDIER SKITTLES         1   \n",
            "30923     538883     21700       BIG DOUGHNUT FRIDGE MAGNETS         1   \n",
            "270394    560567     22613       PACK OF 20 SPACEBOY NAPKINS         1   \n",
            "139881    548361     22139  RETROSPOT TEA SET CERAMIC 11 PC          3   \n",
            "\n",
            "               InvoiceDate  UnitPrice  CustomerID         Country       date  \\\n",
            "479301 2011-11-18 09:53:00       1.65     14277.0          France 2011-11-18   \n",
            "385027 2011-10-07 15:09:00       7.46         NaN  United Kingdom 2011-10-07   \n",
            "30923  2010-12-14 15:56:00       8.47         NaN  United Kingdom 2010-12-14   \n",
            "270394 2011-07-19 13:57:00       1.63         NaN  United Kingdom 2011-07-19   \n",
            "139881 2011-03-30 15:38:00       4.95     16092.0  United Kingdom 2011-03-30   \n",
            "\n",
            "            time  hour  weekend  dayofweek  Revenue  \n",
            "479301  09:53:00     9    False          4    16.50  \n",
            "385027  15:09:00    15    False          4     7.46  \n",
            "30923   15:56:00    15    False          1     8.47  \n",
            "270394  13:57:00    13    False          1     1.63  \n",
            "139881  15:38:00    15    False          2    14.85  \n",
            "373 days 00:00:00\n"
          ]
        },
        {
          "output_type": "display_data",
          "data": {
            "text/plain": [
              "<Figure size 432x288 with 1 Axes>"
            ],
            "image/png": "[encoded data removed]"
          },
          "metadata": {
            "needs_background": "light"
          }
        }
      ]
    },
    {
      "cell_type": "markdown",
      "source": [
        "Training Features Period - from 2011-01-01 until 2011-06-11\n",
        "\n",
        "Training Target Period - from 2011-06-12 until 2011-09-09\n",
        "\n",
        "Testing Features Period - from 2011-04-02 until 2011-09-10\n",
        "\n",
        "Testing Target Period - from 2011-09-11 until 2011-12-09"
      ],
      "metadata": {
        "id": "GJ4AVZTrBe5g"
      }
    },
    {
      "cell_type": "code",
      "source": [
        "data.columns"
      ],
      "metadata": {
        "colab": {
          "base_uri": "https://localhost:8080/"
        },
        "id": "azgexsIIBEnv",
        "outputId": "35076caa-04e6-4106-e3bb-212e83fdeb69"
      },
      "execution_count": 27,
      "outputs": [
        {
          "output_type": "execute_result",
          "data": {
            "text/plain": [
              "Index(['InvoiceNo', 'StockCode', 'Description', 'Quantity', 'InvoiceDate',\n",
              "       'UnitPrice', 'CustomerID', 'Country', 'date', 'time', 'hour', 'weekend',\n",
              "       'dayofweek', 'Revenue'],\n",
              "      dtype='object')"
            ]
          },
          "metadata": {},
          "execution_count": 27
        }
      ]
    },
    {
      "cell_type": "code",
      "source": [
        "def get_features(data, feature_start, feature_end, target_start, target_end):\n",
        "    \"\"\"\n",
        "    Function that outputs the features and targets on the user-level.\n",
        "    Inputs:\n",
        "        * data - a dataframe with raw data\n",
        "        * feature_start - a string start date of feature period\n",
        "        * feature_end - a  string end date of feature period\n",
        "        * target_start - a  string start date of target period\n",
        "        * target_end - a  string end date of target period\n",
        "    \"\"\"\n",
        "    #Double check the periods length\n",
        "    features_data = data.loc[(data.date >= feature_start) & (data.date <= feature_end), :]\n",
        "    print(f'Using data from {(pd.to_datetime(feature_end) - pd.to_datetime(feature_start)).days} days')\n",
        "    print(f'To predict {(pd.to_datetime(target_end) - pd.to_datetime(target_start)).days} days')\n",
        "    \n",
        "    #Transactions data features\n",
        "    total_rev = features_data.groupby('CustomerID')['Revenue'].sum().rename('total_revenue')\n",
        "    recency = (features_data.groupby('CustomerID')['date'].max() - features_data.groupby('CustomerID')['date'].min()).apply(lambda x: x.days).rename('recency')\n",
        "    frequency = features_data.groupby('CustomerID')['InvoiceNo'].count().rename('frequency')\n",
        "    t = features_data.groupby('CustomerID')['date'].min().apply(lambda x: (datetime(2011, 6, 11) - x).days).rename('t')\n",
        "    time_between = (t / frequency).rename('time_between')\n",
        "    avg_basket_value = (total_rev / frequency).rename('avg_basket_value')\n",
        "    avg_basket_size = (features_data.groupby('CustomerID')['Quantity'].sum() / frequency).rename('avg_basket_Size')\n",
        "    returns = features_data.loc[features_data['Revenue'] < 0, :].groupby('CustomerID')['InvoiceNo'].count().rename('num_returns')\n",
        "    hour = features_data.groupby('CustomerID')['hour'].median().rename('purchase_hour_med')\n",
        "    dow = features_data.groupby('CustomerID')['dayofweek'].median().rename('purchase_dow_med')\n",
        "    weekend =  features_data.groupby('CustomerID')['weekend'].mean().rename('purchase_weekend_prop')\n",
        "    train_data = pd.DataFrame(index = data.index)\n",
        "    train_data = train_data.join([total_rev, recency, frequency, t, time_between, avg_basket_value, avg_basket_size, returns, hour, dow, weekend])\n",
        "    train_data = train_data.fillna(0)\n",
        "    \n",
        "    #Target data\n",
        "    target_data = data.loc[(data.date >= target_start) & (data.date <= target_end), :]\n",
        "    target_quant = target_data.groupby(['CustomerID'])['date'].nunique()\n",
        "    target_rev = target_data.groupby(['CustomerID'])['Revenue'].sum().rename('target_rev')\n",
        "    train_data = train_data.join(target_rev).fillna(0)\n",
        "    \n",
        "    return train_data.iloc[:, :-1], train_data.iloc[:, -1] #X and Y\n",
        "\n",
        "\n",
        "#Dates are taken from the discussion above\n",
        "X_train, y_train = get_features(data, '2011-01-01', '2011-06-11', '2011-06-12', '2011-09-09')\n",
        "X_test, y_test = get_features(data, '2011-04-02', '2011-09-10', '2011-09-11', '2011-12-09')\n",
        "\n",
        "print(X_train.head())"
      ],
      "metadata": {
        "colab": {
          "base_uri": "https://localhost:8080/"
        },
        "id": "bEmC1C7N-eNf",
        "outputId": "15d62ebf-ca43-4a13-9fdc-f0a758fbee31"
      },
      "execution_count": 30,
      "outputs": [
        {
          "output_type": "stream",
          "name": "stdout",
          "text": [
            "Using data from 161 days\n",
            "To predict 89 days\n",
            "Using data from 161 days\n",
            "To predict 89 days\n",
            "   total_revenue  recency  frequency    t  time_between  avg_basket_value  \\\n",
            "0            0.0      0.0        0.0  0.0           0.0               0.0   \n",
            "1            0.0      0.0        0.0  0.0           0.0               0.0   \n",
            "2            0.0      0.0        0.0  0.0           0.0               0.0   \n",
            "3            0.0      0.0        0.0  0.0           0.0               0.0   \n",
            "4            0.0      0.0        0.0  0.0           0.0               0.0   \n",
            "\n",
            "   avg_basket_Size  num_returns  purchase_hour_med  purchase_dow_med  \\\n",
            "0              0.0          0.0                0.0               0.0   \n",
            "1              0.0          0.0                0.0               0.0   \n",
            "2              0.0          0.0                0.0               0.0   \n",
            "3              0.0          0.0                0.0               0.0   \n",
            "4              0.0          0.0                0.0               0.0   \n",
            "\n",
            "   purchase_weekend_prop  \n",
            "0                    0.0  \n",
            "1                    0.0  \n",
            "2                    0.0  \n",
            "3                    0.0  \n",
            "4                    0.0  \n"
          ]
        }
      ]
    },
    {
      "cell_type": "code",
      "source": [
        "#DNN\n",
        "def build_model():\n",
        "    model = keras.Sequential([\n",
        "    layers.Dense(256, activation='relu', input_shape=[len(X_train.columns), ]),\n",
        "    layers.Dropout(0.3),\n",
        "    layers.Dense(64, activation='relu'),\n",
        "    layers.Dropout(0.3),\n",
        "    layers.Dense(32, activation='relu'),\n",
        "    layers.Dense(1)\n",
        "    ])\n",
        "\n",
        "    optimizer = tf.keras.optimizers.Adam(0.001)\n",
        "\n",
        "    model.compile(loss='mse',\n",
        "            optimizer=optimizer,\n",
        "            metrics=['mae', 'mse'])\n",
        "    \n",
        "    return model\n",
        "\n",
        "# The patience parameter is the amount of epochs to check for improvement\n",
        "early_stop = keras.callbacks.EarlyStopping(monitor='val_mse', patience=50)\n",
        "\n",
        "model = build_model()\n",
        "#Should take 10 sec\n",
        "early_history = model.fit(X_train, y_train, \n",
        "                    epochs=1000, validation_split = 0.2, verbose=0, \n",
        "                    callbacks=[early_stop])\n"
      ],
      "metadata": {
        "id": "0pdasmYo-eVS"
      },
      "execution_count": null,
      "outputs": []
    },
    {
      "cell_type": "code",
      "source": [
        "def evaluate(actual, sales_prediction):\n",
        "    print(f\"Total Sales Actual: {np.round(actual.sum())}\")\n",
        "    print(f\"Total Sales Predicted: {np.round(sales_prediction.sum())}\")\n",
        "    print(f\"Individual R2 score: {r2_score(actual, sales_prediction)} \")\n",
        "    print(f\"Individual Mean Absolute Error: {mean_absolute_error(actual, sales_prediction)}\")\n",
        "    plt.scatter(sales_prediction, actual)\n",
        "    plt.xlabel('Prediction')\n",
        "    plt.ylabel('Actual')      \n",
        "    plt.show()\n",
        "\n",
        "#Predicting\n",
        "dnn_preds = model.predict(X_test).ravel()\n",
        "\n",
        "evaluate(y_test, dnn_preds)"
      ],
      "metadata": {
        "id": "Aedfz1RW-eY6"
      },
      "execution_count": null,
      "outputs": []
    },
    {
      "cell_type": "code",
      "source": [
        "##PRE-PROCESSING\n",
        "#Context data for the revenue (date & customerID)\n",
        "id_lookup = data[['CustomerID', 'InvoiceNo', 'date']].drop_duplicates()\n",
        "id_lookup.index = id_lookup['InvoiceNo']\n",
        "id_lookup = id_lookup.drop('InvoiceNo', axis=1)\n",
        "transactions_data = pd.DataFrame(data.groupby('InvoiceNo')['Revenue'].sum()).join(id_lookup)\n",
        "\n",
        "#Spit into train - test\n",
        "rfm_train_test = calibration_and_holdout_data(transactions_data, 'CustomerID', 'date',\n",
        "                                        calibration_period_end='2011-09-10',\n",
        "                                        monetary_value_col = 'Revenue')   \n",
        "\n",
        "#Selecting only customers with positive value in the calibration period (otherwise Gamma-Gamma model doesn't work)\n",
        "rfm_train_test = rfm_train_test.loc[rfm_train_test['monetary_value_cal'] > 0, :]\n",
        "\n",
        "##TRAINING\n",
        "#Train the BG/NBD model\n",
        "bgf = BetaGeoFitter(penalizer_coef=0.1)\n",
        "bgf.fit(rfm_train_test['frequency_cal'], rfm_train_test['recency_cal'], rfm_train_test['T_cal'])\n",
        "\n",
        "#Train Gamma-Gamma\n",
        "print(rfm_train_test[['monetary_value_cal', 'frequency_cal']].corr())\n",
        "ggf = GammaGammaFitter(penalizer_coef = 0)\n",
        "ggf.fit(rfm_train_test['frequency_cal'],\n",
        "        rfm_train_test['monetary_value_cal'])\n",
        "\n",
        "##PREDICTION\n",
        "#Predict the expected number of transactions in the next 89 days\n",
        "predicted_bgf = bgf.predict(89,\n",
        "                        rfm_train_test['frequency_cal'], \n",
        "                        rfm_train_test['recency_cal'], \n",
        "                        rfm_train_test['T_cal'])\n",
        "trans_pred = predicted_bgf.fillna(0)\n",
        "\n",
        "#Predict the average order value\n",
        "monetary_pred = ggf.conditional_expected_average_profit(rfm_train_test['frequency_cal'],\n",
        "                                        rfm_train_test['monetary_value_cal'])\n",
        "\n",
        "#Putting it all together\n",
        "sales_pred = trans_pred * monetary_pred\n"
      ],
      "metadata": {
        "id": "tdG1fDKK-ebx"
      },
      "execution_count": null,
      "outputs": []
    },
    {
      "cell_type": "code",
      "source": [
        "#First 98.5% of data\n",
        "no_out = compare_df.loc[(compare_df['actual'] <= np.quantile(compare_df['actual'], 0.985)), :]\n",
        "\n",
        "#Distribution of DNN\n",
        "sns.distplot(no_out['actual'])\n",
        "sns.distplot(no_out['dnn_preds'])\n",
        "plt.title('Actual vs DNN Predictions')\n",
        "plt.show()"
      ],
      "metadata": {
        "id": "2I5f0w0o-ee5"
      },
      "execution_count": null,
      "outputs": []
    },
    {
      "cell_type": "code",
      "source": [
        "#Distribution of BG/NBD + Gamma-Gamma\n",
        "sns.distplot(no_out['actual'])\n",
        "sns.distplot(no_out['stat_pred'])\n",
        "plt.title('Actual vs BG/NBD Predictions')\n",
        "plt.show()"
      ],
      "metadata": {
        "id": "dCdPo4S1_Pbf"
      },
      "execution_count": null,
      "outputs": []
    },
    {
      "cell_type": "code",
      "source": [
        "top_n = int(np.round(compare_df.shape[0] * 0.2))\n",
        "print(f'Selecting the first {top_n} users')\n",
        "\n",
        "#Selecting IDs\n",
        "dnn_ids = compare_df['dnn_preds'].sort_values(ascending=False).index[:top_n].values\n",
        "stat_ids = compare_df['stat_pred'].sort_values(ascending=False).index[:top_n].values\n",
        "\n",
        "#Filtering the data\n",
        "eval_subset = data.loc[data.date >= '2011-09-10', :]\n",
        "\n",
        "#Sums\n",
        "dnn_rev = eval_subset.loc[eval_subset.CustomerID.isin(dnn_ids), 'Revenue'].sum() \n",
        "stat_rev = eval_subset.loc[eval_subset.CustomerID.isin(stat_ids), 'Revenue'].sum()\n",
        "\n",
        "\n",
        "print(f'Top 20% selected by DNN have generated {np.round(dnn_rev)}')\n",
        "print(f'Top 20% selected by BG/NBD and Gamma Gamma have generated {np.round(stat_rev)}')\n",
        "print(f'Thats {np.round(dnn_rev - stat_rev)} of marginal revenue')\n"
      ],
      "metadata": {
        "id": "e-W7bRNn-WBS"
      },
      "execution_count": null,
      "outputs": []
    }
  ]
}